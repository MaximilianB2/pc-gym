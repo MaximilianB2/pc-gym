{
 "cells": [
  {
   "cell_type": "markdown",
   "metadata": {},
   "source": [
    "# Initial State Uncertainty in PC-Gym\n",
    "\n",
    "For a discrete dynamical system, as seen in PC-Gym, the initial state uncertainty is typically characterized as follows:\n",
    "\\begin{align*}\n",
    "x_{t+1} &= f(x_t, u_t)\\\\\n",
    "x_0 &\\sim p_0(x_0)\n",
    "\\end{align*}\n",
    "where $x_t$ is the state at time $t$, $u_t$ is the control input at time $t$, and $x_0$ is the initial state. "
   ]
  },
  {
   "cell_type": "code",
   "execution_count": 1,
   "metadata": {},
   "outputs": [],
   "source": [
    "import numpy as np\n",
    "from pcgym import make_env"
   ]
  },
  {
   "cell_type": "code",
   "execution_count": 2,
   "metadata": {},
   "outputs": [
    {
     "name": "stderr",
     "output_type": "stream",
     "text": [
      "c:\\Users\\mfb22\\AppData\\Local\\anaconda3\\envs\\pcgym_test\\Lib\\site-packages\\gymnasium\\spaces\\box.py:235: UserWarning: \u001b[33mWARN: Box low's precision lowered by casting to float32, current low.dtype=float64\u001b[0m\n",
      "  gym.logger.warn(\n",
      "c:\\Users\\mfb22\\AppData\\Local\\anaconda3\\envs\\pcgym_test\\Lib\\site-packages\\gymnasium\\spaces\\box.py:305: UserWarning: \u001b[33mWARN: Box high's precision lowered by casting to float32, current high.dtype=float64\u001b[0m\n",
      "  gym.logger.warn(\n"
     ]
    }
   ],
   "source": [
    "env_params = {\n",
    "    \"model\": \"photo_production\",\n",
    "    \"x0\": np.array([0.1, 20.0, 0.0]),\n",
    "    \"tsim\": 100,\n",
    "    \"N\": 100,\n",
    "    \n",
    "    \"a_space\": {\n",
    "        \"low\": np.array([0.0, 0.0]),\n",
    "        \"high\": np.array([1000.0, 100.0])\n",
    "    },\n",
    "    \n",
    "    # Extended observation space to include the uncertain initial states\n",
    "    \"o_space\": {\n",
    "        \"low\": np.array([0.0, 0.0, 0.0,]),  # Original states + uncertain states\n",
    "        \"high\": np.array([10.0, 100.0, 10.0])  # Original states + uncertain states\n",
    "    },\n",
    "    \n",
    "    \"uncertainty_percentages\": {\n",
    "        \"x0\": [0.1, 0.1, 0.1]\n",
    "    },\n",
    "    \n",
    "    \"distribution\": \"uniform\",\n",
    "\n",
    "    \"uncertainty_bounds\": {\n",
    "        \"low\": np.array([0.09, 18.0, 0.0]),\n",
    "        \"high\": np.array([0.11, 22.0, 0.0])\n",
    "    },\n",
    "    \n",
    "    \"reward_states\": [\"c_q\"],\n",
    "    \"maximise_reward\": True,\n",
    "    \"r_scale\": {\"c_q\": 1.0}\n",
    "}\n",
    "\n",
    "\n",
    "env = make_env(env_params=env_params)"
   ]
  },
  {
   "cell_type": "code",
   "execution_count": 3,
   "metadata": {},
   "outputs": [
    {
     "ename": "TypeError",
     "evalue": "make_env.apply_uncertainties() missing 1 required positional argument: 'distribution'",
     "output_type": "error",
     "traceback": [
      "\u001b[1;31m---------------------------------------------------------------------------\u001b[0m",
      "\u001b[1;31mTypeError\u001b[0m                                 Traceback (most recent call last)",
      "Cell \u001b[1;32mIn[3], line 1\u001b[0m\n\u001b[1;32m----> 1\u001b[0m x0, _ \u001b[38;5;241m=\u001b[39m \u001b[43menv\u001b[49m\u001b[38;5;241;43m.\u001b[39;49m\u001b[43mreset\u001b[49m\u001b[43m(\u001b[49m\u001b[43m)\u001b[49m\n\u001b[0;32m      2\u001b[0m \u001b[38;5;28mprint\u001b[39m(x0)\n",
      "File \u001b[1;32m~\\Documents\\GitHub\\pcgym\\src\\pcgym\\pcgym.py:258\u001b[0m, in \u001b[0;36mmake_env.reset\u001b[1;34m(self, seed, **kwargs)\u001b[0m\n\u001b[0;32m    256\u001b[0m     x0_uncertainty \u001b[38;5;241m=\u001b[39m \u001b[38;5;28mself\u001b[39m\u001b[38;5;241m.\u001b[39muncertainty_percentages[\u001b[38;5;124m\"\u001b[39m\u001b[38;5;124mx0\u001b[39m\u001b[38;5;124m\"\u001b[39m]\n\u001b[0;32m    257\u001b[0m     \u001b[38;5;28;01mfor\u001b[39;00m idx, uncertainty \u001b[38;5;129;01min\u001b[39;00m \u001b[38;5;28menumerate\u001b[39m(x0_uncertainty):\n\u001b[1;32m--> 258\u001b[0m         state[idx] \u001b[38;5;241m=\u001b[39m \u001b[38;5;28;43mself\u001b[39;49m\u001b[38;5;241;43m.\u001b[39;49m\u001b[43mapply_uncertainties\u001b[49m\u001b[43m(\u001b[49m\u001b[43mstate\u001b[49m\u001b[43m[\u001b[49m\u001b[43midx\u001b[49m\u001b[43m]\u001b[49m\u001b[43m,\u001b[49m\u001b[43m \u001b[49m\u001b[43muncertainty\u001b[49m\u001b[43m,\u001b[49m\u001b[43m \u001b[49m\u001b[43m)\u001b[49m\n\u001b[0;32m    260\u001b[0m \u001b[38;5;66;03m# If disturbances are active, expand the initial state with disturbances\u001b[39;00m\n\u001b[0;32m    261\u001b[0m \u001b[38;5;28;01mif\u001b[39;00m \u001b[38;5;28mself\u001b[39m\u001b[38;5;241m.\u001b[39mdisturbance_active:\n",
      "\u001b[1;31mTypeError\u001b[0m: make_env.apply_uncertainties() missing 1 required positional argument: 'distribution'"
     ]
    }
   ],
   "source": [
    "x0, _ = env.reset()\n",
    "print(x0)"
   ]
  }
 ],
 "metadata": {
  "kernelspec": {
   "display_name": "pcgym_test",
   "language": "python",
   "name": "python3"
  },
  "language_info": {
   "codemirror_mode": {
    "name": "ipython",
    "version": 3
   },
   "file_extension": ".py",
   "mimetype": "text/x-python",
   "name": "python",
   "nbconvert_exporter": "python",
   "pygments_lexer": "ipython3",
   "version": "3.12.7"
  }
 },
 "nbformat": 4,
 "nbformat_minor": 2
}
