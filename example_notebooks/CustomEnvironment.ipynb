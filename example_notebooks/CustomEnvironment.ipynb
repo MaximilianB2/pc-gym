{
 "cells": [
  {
   "cell_type": "markdown",
   "id": "06341e89",
   "metadata": {},
   "source": [
    "# Custom Environment Tutorial\n",
    "\n",
    "PC-gym has the ability to create custom environments. This tutorial will guide you through the process of creating a simple custom environment."
   ]
  },
  {
   "cell_type": "code",
   "execution_count": 3,
   "id": "93d3366c",
   "metadata": {},
   "outputs": [],
   "source": [
    "from dataclasses import dataclass\n",
    "from pcgym import make_env\n",
    "import numpy as np \n",
    "from stable_baselines3 import PPO\n",
    "import jax.numpy as jnp"
   ]
  },
  {
   "cell_type": "markdown",
   "id": "7f71411f",
   "metadata": {},
   "source": [
    "## Define the Environment in the `pc-gym` format"
   ]
  },
  {
   "cell_type": "code",
   "execution_count": 7,
   "id": "7514f9c3",
   "metadata": {},
   "outputs": [],
   "source": [
    "@dataclass(frozen=False, kw_only=True)\n",
    "class cstr:\n",
    "    q: float = 100\n",
    "    V: float = 100\n",
    "    rho: float = 1000\n",
    "    C: float = 0.239\n",
    "    deltaHr: float = -5e4\n",
    "    EA_over_R: float = 8750\n",
    "    k0: float = 7.2e10\n",
    "    UA: float = 5e4\n",
    "    Ti: float = 350\n",
    "    Caf: float = 1\n",
    "    int_method: str = 'jax'\n",
    "    states: list = None\n",
    "    inputs: list = None\n",
    "    disturbances: list = None\n",
    "    uncertainties: dict = None\n",
    "\n",
    "    def __post_init__(self):\n",
    "        self.states = [\"Ca\", \"T\"]\n",
    "        self.inputs = [\"Tc\"]\n",
    "        self.disturbances = [\"Ti\", \"Caf\"]\n",
    "\n",
    "    def __call__(self, x: np.ndarray, u: np.ndarray) -> np.ndarray:\n",
    "        ca, T = x[0], x[1]\n",
    "        if self.int_method == \"jax\":\n",
    "            if u.shape == (1,):\n",
    "                Tc = u[0]\n",
    "            else:\n",
    "                Tc, self.Ti, self.Caf = u[0], u[1], u[2]\n",
    "            rA = self.k0 * jnp.exp(-self.EA_over_R / T) * ca\n",
    "            dxdt = jnp.array([\n",
    "                self.q / self.V * (self.Caf - ca) - rA,\n",
    "                self.q / self.V * (self.Ti - T)\n",
    "                + ((-self.deltaHr) * rA) * (1 / (self.rho * self.C))\n",
    "                + self.UA * (Tc - T) * (1 / (self.rho * self.C * self.V)),\n",
    "            ])\n",
    "            return dxdt\n",
    "        else:\n",
    "            if u.shape == (1,1):\n",
    "                Tc = u[0]\n",
    "            else:\n",
    "                Tc, self.Ti, self.Caf = u[0], u[1], u[2] \n",
    "            rA = self.k0 * np.exp(-self.EA_over_R / T) * ca\n",
    "            dxdt = [\n",
    "                self.q / self.V * (self.Caf - ca) - rA,\n",
    "                self.q / self.V * (self.Ti - T)\n",
    "                + ((-self.deltaHr) * rA) * (1 / (self.rho * self.C))\n",
    "                + self.UA * (Tc - T) * (1 / (self.rho * self.C * self.V)),\n",
    "            ]\n",
    "            return dxdt\n",
    "\n",
    "    def info(self) -> dict:\n",
    "        info = {\n",
    "            \"parameters\": self.__dict__.copy(),\n",
    "            \"states\": self.states,\n",
    "            \"inputs\": self.inputs,\n",
    "            \"disturbances\": self.disturbances,\n",
    "            \"uncertainties\": list(self.uncertainties.keys()) if self.uncertainties else [],\n",
    "        }\n",
    "        info[\"parameters\"].pop(\"int_method\", None)\n",
    "        return info"
   ]
  },
  {
   "cell_type": "code",
   "execution_count": 5,
   "id": "27b2c2cf",
   "metadata": {},
   "outputs": [],
   "source": [
    "# Enter required setpoints for each state.\n",
    "T = 26\n",
    "nsteps = 100\n",
    "SP = {\n",
    "    'Ca': [0.85 for i in range(int(nsteps/2))] + [0.9 for i in range(int(nsteps/2))],\n",
    "}"
   ]
  },
  {
   "cell_type": "code",
   "execution_count": null,
   "id": "3d53fba3",
   "metadata": {},
   "outputs": [],
   "source": [
    "# Continuous box action space\n",
    "action_space = {\n",
    "    'low': np.array([295.], dtype=np.float32),\n",
    "    'high':np.array([302.], dtype=np.float32) \n",
    "}\n",
    "\n",
    "# Continuous box observation space\n",
    "observation_space = {\n",
    "    'low' : np.array([0.7, 300., 0.8], dtype=np.float32),\n",
    "    'high' : np.array([1., 350., 0.9], dtype=np.float32)  \n",
    "}\n",
    "\n",
    "r_scale ={\n",
    "    'Ca': 1e3 #Reward scale for each state\n",
    "}\n",
    "env_params = {\n",
    "    'N': nsteps, # Number of time steps\n",
    "    'tsim':T, # Simulation Time\n",
    "    'SP':SP, # Setpoint\n",
    "    'o_space' : observation_space, # Observation space\n",
    "    'a_space' : action_space, # Action space\n",
    "    'x0': np.array([0.8, 330, 0.8]), # Initial conditions \n",
    "    'custom_model': cstr(), # Select the model\n",
    "    'r_scale': r_scale, # Scale the L1 norm used for reward (|x-x_sp|*r_scale)\n",
    "    'normalise_a': True, # Normalise the actions\n",
    "    'normalise_o':True, # Normalise the states,\n",
    "    'noise':True, # Add noise to the states\n",
    "    'integration_method': 'casadi', # Select the integration method\n",
    "    'noise_percentage':0.1 # Noise percentage\n",
    "}\n",
    "env = make_env(env_params)"
   ]
  },
  {
   "cell_type": "markdown",
   "id": "91f82a36",
   "metadata": {},
   "source": [
    "Now PC-gym is using the cstr defined in this notebook."
   ]
  }
 ],
 "metadata": {
  "kernelspec": {
   "display_name": "DDMPC_CW_test",
   "language": "python",
   "name": "python3"
  },
  "language_info": {
   "codemirror_mode": {
    "name": "ipython",
    "version": 3
   },
   "file_extension": ".py",
   "mimetype": "text/x-python",
   "name": "python",
   "nbconvert_exporter": "python",
   "pygments_lexer": "ipython3",
   "version": "3.11.5"
  }
 },
 "nbformat": 4,
 "nbformat_minor": 5
}
